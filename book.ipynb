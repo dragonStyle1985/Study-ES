{
 "cells": [
  {
   "cell_type": "markdown",
   "source": [
    "视频教程\n",
    "https://www.bilibili.com/video/BV11m4y1e7Yn?p=9&spm_id_from=pageDriver&vd_source=69b9597080eefd2cce7fd63de0c25e83"
   ],
   "metadata": {
    "collapsed": false,
    "pycharm": {
     "name": "#%% md\n"
    }
   }
  },
  {
   "cell_type": "code",
   "execution_count": null,
   "outputs": [],
   "source": [
    "from elasticsearch_dsl import connections, Index"
   ],
   "metadata": {
    "collapsed": false,
    "pycharm": {
     "name": "#%%\n"
    }
   }
  },
  {
   "cell_type": "code",
   "execution_count": 10,
   "outputs": [],
   "source": [
    "connection = connections.create_connection(hosts=[\"http://localhost:9200\"])"
   ],
   "metadata": {
    "collapsed": false,
    "pycharm": {
     "name": "#%%\n"
    }
   }
  },
  {
   "cell_type": "code",
   "execution_count": 11,
   "outputs": [],
   "source": [
    "index = Index('books')"
   ],
   "metadata": {
    "collapsed": false,
    "pycharm": {
     "name": "#%%\n"
    }
   }
  },
  {
   "cell_type": "code",
   "execution_count": 12,
   "outputs": [
    {
     "data": {
      "text/plain": "ObjectApiResponse({'acknowledged': True, 'shards_acknowledged': True, 'index': 'books'})"
     },
     "execution_count": 12,
     "metadata": {},
     "output_type": "execute_result"
    }
   ],
   "source": [
    "index.create()"
   ],
   "metadata": {
    "collapsed": false,
    "pycharm": {
     "name": "#%%\n"
    }
   }
  },
  {
   "cell_type": "code",
   "execution_count": 13,
   "outputs": [
    {
     "data": {
      "text/plain": "HeadApiResponse(True)"
     },
     "execution_count": 13,
     "metadata": {},
     "output_type": "execute_result"
    }
   ],
   "source": [
    "index.exists()"
   ],
   "metadata": {
    "collapsed": false,
    "pycharm": {
     "name": "#%%\n"
    }
   }
  },
  {
   "cell_type": "code",
   "execution_count": null,
   "outputs": [],
   "source": [
    "# index.delete()"
   ],
   "metadata": {
    "collapsed": false,
    "pycharm": {
     "name": "#%%\n"
    }
   }
  },
  {
   "cell_type": "code",
   "execution_count": 14,
   "outputs": [],
   "source": [
    "from elasticsearch_dsl import Document, Text, Keyword, Integer, Boolean\n",
    "\n",
    "\n",
    "class Books(Document):\n",
    "    title = Text()\n",
    "    description = Text()\n",
    "    category = Keyword()\n",
    "    price = Integer()\n",
    "    in_stock = Boolean()\n",
    "\n",
    "    class Index:\n",
    "        name = \"books\""
   ],
   "metadata": {
    "collapsed": false,
    "pycharm": {
     "name": "#%%\n"
    }
   }
  },
  {
   "cell_type": "code",
   "execution_count": 19,
   "outputs": [
    {
     "data": {
      "text/plain": "  title                                description category  price  in_stock\n0   西游记  由明朝作家吴承恩创作，讲述了孙悟空、猪八戒、沙僧等人与唐僧师徒四人西天取经的故事。       小说     10     False\n1   红楼梦                 由清朝作家曹雪芹创作，被誉为中国古代小说的巅峰之作。       小说     20      True",
      "text/html": "<div>\n<style scoped>\n    .dataframe tbody tr th:only-of-type {\n        vertical-align: middle;\n    }\n\n    .dataframe tbody tr th {\n        vertical-align: top;\n    }\n\n    .dataframe thead th {\n        text-align: right;\n    }\n</style>\n<table border=\"1\" class=\"dataframe\">\n  <thead>\n    <tr style=\"text-align: right;\">\n      <th></th>\n      <th>title</th>\n      <th>description</th>\n      <th>category</th>\n      <th>price</th>\n      <th>in_stock</th>\n    </tr>\n  </thead>\n  <tbody>\n    <tr>\n      <th>0</th>\n      <td>西游记</td>\n      <td>由明朝作家吴承恩创作，讲述了孙悟空、猪八戒、沙僧等人与唐僧师徒四人西天取经的故事。</td>\n      <td>小说</td>\n      <td>10</td>\n      <td>False</td>\n    </tr>\n    <tr>\n      <th>1</th>\n      <td>红楼梦</td>\n      <td>由清朝作家曹雪芹创作，被誉为中国古代小说的巅峰之作。</td>\n      <td>小说</td>\n      <td>20</td>\n      <td>True</td>\n    </tr>\n  </tbody>\n</table>\n</div>"
     },
     "execution_count": 19,
     "metadata": {},
     "output_type": "execute_result"
    }
   ],
   "source": [
    "import pandas as pd\n",
    "\n",
    "df_books = pd.read_csv('./data/books.csv', encoding='gbk')\n",
    "df_books"
   ],
   "metadata": {
    "collapsed": false,
    "pycharm": {
     "name": "#%%\n"
    }
   }
  },
  {
   "cell_type": "code",
   "execution_count": 20,
   "outputs": [
    {
     "name": "stdout",
     "output_type": "stream",
     "text": [
      "title                                                西游记\n",
      "description    由明朝作家吴承恩创作，讲述了孙悟空、猪八戒、沙僧等人与唐僧师徒四人西天取经的故事。\n",
      "category                                              小说\n",
      "price                                                 10\n",
      "in_stock                                           False\n",
      "Name: 0, dtype: object\n"
     ]
    }
   ],
   "source": [
    "data = df_books.iloc[0, :]\n",
    "print(data)\n",
    "book = Books(title=data.title, description=data.description, category=data.category, price=data.price, in_stock=data.in_stock)"
   ],
   "metadata": {
    "collapsed": false,
    "pycharm": {
     "name": "#%%\n"
    }
   }
  },
  {
   "cell_type": "code",
   "execution_count": 21,
   "outputs": [],
   "source": [
    "for row_no, row in df_books.iterrows():\n",
    "    book = Books(title=row.title, description=row.description, category=row.category, price=row.price, in_stock=row.in_stock)\n",
    "    book.save()"
   ],
   "metadata": {
    "collapsed": false,
    "pycharm": {
     "name": "#%%\n"
    }
   }
  },
  {
   "cell_type": "code",
   "execution_count": 22,
   "outputs": [],
   "source": [
    "from elasticsearch_dsl import Search, Q, connections"
   ],
   "metadata": {
    "collapsed": false,
    "pycharm": {
     "name": "#%%\n"
    }
   }
  },
  {
   "cell_type": "code",
   "execution_count": 23,
   "outputs": [],
   "source": [
    "search = Search(index='books')\n",
    "query = Q('match', title='西游')\n",
    "s = search.query(query)\n",
    "response = s.execute()"
   ],
   "metadata": {
    "collapsed": false,
    "pycharm": {
     "name": "#%%\n"
    }
   }
  },
  {
   "cell_type": "code",
   "execution_count": 24,
   "outputs": [
    {
     "name": "stdout",
     "output_type": "stream",
     "text": [
      "title: 西游记\n",
      "description: 由明朝作家吴承恩创作，讲述了孙悟空、猪八戒、沙僧等人与唐僧师徒四人西天取经的故事。\n"
     ]
    }
   ],
   "source": [
    "for hit in response.hits:\n",
    "    print(f'title: {hit.title}')\n",
    "    print(f'description: {hit.description}')"
   ],
   "metadata": {
    "collapsed": false,
    "pycharm": {
     "name": "#%%\n"
    }
   }
  },
  {
   "cell_type": "code",
   "execution_count": 25,
   "outputs": [],
   "source": [
    "from elasticsearch_dsl import MultiSearch, Search"
   ],
   "metadata": {
    "collapsed": false,
    "pycharm": {
     "name": "#%%\n"
    }
   }
  },
  {
   "cell_type": "code",
   "execution_count": 26,
   "outputs": [],
   "source": [
    "ms = MultiSearch(index='books')\n",
    "\n",
    "s1 = Search()\n",
    "s1 = s1.query('match', title='西游')\n",
    "ms = ms.add(s1)\n",
    "\n",
    "s2 = Search()\n",
    "s2 = s2.query('match', title='梦')\n",
    "ms = ms.add(s2)"
   ],
   "metadata": {
    "collapsed": false,
    "pycharm": {
     "name": "#%%\n"
    }
   }
  },
  {
   "cell_type": "code",
   "execution_count": 27,
   "outputs": [
    {
     "name": "stdout",
     "output_type": "stream",
     "text": [
      "title: 西游记\n",
      "title: 红楼梦\n"
     ]
    }
   ],
   "source": [
    "responses = ms.execute()\n",
    "\n",
    "for response in responses:\n",
    "    for hit in response.hits:\n",
    "        print(f'title: {hit.title}')"
   ],
   "metadata": {
    "collapsed": false,
    "pycharm": {
     "name": "#%%\n"
    }
   }
  },
  {
   "cell_type": "code",
   "execution_count": 31,
   "outputs": [
    {
     "name": "stdout",
     "output_type": "stream",
     "text": [
      "title: 西游记\n"
     ]
    }
   ],
   "source": [
    "from util import search_query\n",
    "from elasticsearch_dsl.query import Match\n",
    "\n",
    "search = Search(index='books')\n",
    "query = Match(title='西记')\n",
    "search_query(search, query, columns=['title'])"
   ],
   "metadata": {
    "collapsed": false,
    "pycharm": {
     "name": "#%%\n"
    }
   }
  },
  {
   "cell_type": "code",
   "execution_count": 33,
   "outputs": [
    {
     "name": "stdout",
     "output_type": "stream",
     "text": [
      "title: 西游记\n",
      "title: 红楼梦\n"
     ]
    }
   ],
   "source": [
    "from elasticsearch_dsl.query import MatchAll\n",
    "\n",
    "query = MatchAll()\n",
    "search_query(search, query, columns=['title'])"
   ],
   "metadata": {
    "collapsed": false,
    "pycharm": {
     "name": "#%%\n"
    }
   }
  },
  {
   "cell_type": "code",
   "execution_count": 34,
   "outputs": [
    {
     "name": "stdout",
     "output_type": "stream",
     "text": [
      "title: 西游记\n",
      "description: 由明朝作家吴承恩创作，讲述了孙悟空、猪八戒、沙僧等人与唐僧师徒四人西天取经的故事。\n"
     ]
    }
   ],
   "source": [
    "from elasticsearch_dsl.query import MultiMatch\n",
    "\n",
    "query = MultiMatch(query='西游记', fields=['title'], minimum_should_match=2)\n",
    "search_query(search, query, columns=['title', 'description'])"
   ],
   "metadata": {
    "collapsed": false,
    "pycharm": {
     "name": "#%%\n"
    }
   }
  },
  {
   "cell_type": "code",
   "execution_count": 39,
   "outputs": [
    {
     "name": "stdout",
     "output_type": "stream",
     "text": [
      "title: 西游记\n",
      "description: 由明朝作家吴承恩创作，讲述了孙悟空、猪八戒、沙僧等人与唐僧师徒四人西天取经的故事。\n",
      "title: 红楼梦\n",
      "description: 由清朝作家曹雪芹创作，被誉为中国古代小说的巅峰之作。\n"
     ]
    }
   ],
   "source": [
    "from elasticsearch_dsl.query import Fuzzy\n",
    "\n",
    "query = Fuzzy(title={'value': '东', 'fuzziness': 1})\n",
    "search_query(search, query, columns=['title', 'description'])"
   ],
   "metadata": {
    "collapsed": false,
    "pycharm": {
     "name": "#%%\n"
    }
   }
  },
  {
   "cell_type": "code",
   "execution_count": 41,
   "outputs": [
    {
     "name": "stdout",
     "output_type": "stream",
     "text": [
      "title: 红楼梦\n",
      "price: 20\n"
     ]
    }
   ],
   "source": [
    "from util import search_term\n",
    "from elasticsearch_dsl.query import Range\n",
    "\n",
    "term = Range(price={\"gte\": 20, \"lte\": 100})\n",
    "search_term(search, term, columns=['title', 'price'])"
   ],
   "metadata": {
    "collapsed": false,
    "pycharm": {
     "name": "#%%\n"
    }
   }
  }
 ],
 "metadata": {
  "kernelspec": {
   "display_name": "Python 3",
   "language": "python",
   "name": "python3"
  },
  "language_info": {
   "codemirror_mode": {
    "name": "ipython",
    "version": 2
   },
   "file_extension": ".py",
   "mimetype": "text/x-python",
   "name": "python",
   "nbconvert_exporter": "python",
   "pygments_lexer": "ipython2",
   "version": "2.7.6"
  }
 },
 "nbformat": 4,
 "nbformat_minor": 0
}